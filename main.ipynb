{
 "metadata": {
  "language_info": {
   "codemirror_mode": {
    "name": "ipython",
    "version": 3
   },
   "file_extension": ".py",
   "mimetype": "text/x-python",
   "name": "python",
   "nbconvert_exporter": "python",
   "pygments_lexer": "ipython3",
   "version": "3.8.3-final"
  },
  "orig_nbformat": 2,
  "kernelspec": {
   "name": "python3",
   "display_name": "Python 3.8.3 64-bit",
   "metadata": {
    "interpreter": {
     "hash": "2db524e06e9f5f4ffedc911c917cb75e12dbc923643829bf417064a77eb14d37"
    }
   }
  }
 },
 "nbformat": 4,
 "nbformat_minor": 2,
 "cells": [
  {
   "cell_type": "code",
   "execution_count": 1,
   "metadata": {},
   "outputs": [],
   "source": [
    "import pandas as pd"
   ]
  },
  {
   "cell_type": "code",
   "execution_count": 2,
   "metadata": {},
   "outputs": [
    {
     "output_type": "execute_result",
     "data": {
      "text/plain": [
       "      Unnamed: 0  index                                               text\n",
       "0           4538   4538  Want the low down on the Estee Edit I have a b...\n",
       "1            764    764  President Trump may be the most high-profile h...\n",
       "2           7008   7008  Sonic Silver Metallic Used 2017 Mazda CX-5 ava...\n",
       "3           6395   6395  Discover the SPF formula that fits seamlessly ...\n",
       "4           9282   9282  LOS ANGELES Nov. 18, 2020 /PRNewswire/ -- Serv...\n",
       "...          ...    ...                                                ...\n",
       "2638         892    892  \"I love you people but I've been doing this si...\n",
       "2639        2581   2581  🍑Peachy Perfect🍑 . A rich chocolate sponge fil...\n",
       "2640       10665  10665  ⚡️PRESS PLAY⚡️ Metal Matte Liquid Lipsticks 💄⚡...\n",
       "2641        3775   3775  Seen this first impression ➡️ 🔥 leave your TOP...\n",
       "2642        8084   8084  GIR’s reusable platinum-grade silicone face ma...\n",
       "\n",
       "[2643 rows x 3 columns]"
      ],
      "text/html": "<div>\n<style scoped>\n    .dataframe tbody tr th:only-of-type {\n        vertical-align: middle;\n    }\n\n    .dataframe tbody tr th {\n        vertical-align: top;\n    }\n\n    .dataframe thead th {\n        text-align: right;\n    }\n</style>\n<table border=\"1\" class=\"dataframe\">\n  <thead>\n    <tr style=\"text-align: right;\">\n      <th></th>\n      <th>Unnamed: 0</th>\n      <th>index</th>\n      <th>text</th>\n    </tr>\n  </thead>\n  <tbody>\n    <tr>\n      <th>0</th>\n      <td>4538</td>\n      <td>4538</td>\n      <td>Want the low down on the Estee Edit I have a b...</td>\n    </tr>\n    <tr>\n      <th>1</th>\n      <td>764</td>\n      <td>764</td>\n      <td>President Trump may be the most high-profile h...</td>\n    </tr>\n    <tr>\n      <th>2</th>\n      <td>7008</td>\n      <td>7008</td>\n      <td>Sonic Silver Metallic Used 2017 Mazda CX-5 ava...</td>\n    </tr>\n    <tr>\n      <th>3</th>\n      <td>6395</td>\n      <td>6395</td>\n      <td>Discover the SPF formula that fits seamlessly ...</td>\n    </tr>\n    <tr>\n      <th>4</th>\n      <td>9282</td>\n      <td>9282</td>\n      <td>LOS ANGELES Nov. 18, 2020 /PRNewswire/ -- Serv...</td>\n    </tr>\n    <tr>\n      <th>...</th>\n      <td>...</td>\n      <td>...</td>\n      <td>...</td>\n    </tr>\n    <tr>\n      <th>2638</th>\n      <td>892</td>\n      <td>892</td>\n      <td>\"I love you people but I've been doing this si...</td>\n    </tr>\n    <tr>\n      <th>2639</th>\n      <td>2581</td>\n      <td>2581</td>\n      <td>🍑Peachy Perfect🍑 . A rich chocolate sponge fil...</td>\n    </tr>\n    <tr>\n      <th>2640</th>\n      <td>10665</td>\n      <td>10665</td>\n      <td>⚡️PRESS PLAY⚡️ Metal Matte Liquid Lipsticks 💄⚡...</td>\n    </tr>\n    <tr>\n      <th>2641</th>\n      <td>3775</td>\n      <td>3775</td>\n      <td>Seen this first impression ➡️ 🔥 leave your TOP...</td>\n    </tr>\n    <tr>\n      <th>2642</th>\n      <td>8084</td>\n      <td>8084</td>\n      <td>GIR’s reusable platinum-grade silicone face ma...</td>\n    </tr>\n  </tbody>\n</table>\n<p>2643 rows × 3 columns</p>\n</div>"
     },
     "metadata": {},
     "execution_count": 2
    }
   ],
   "source": [
    "df_test = pd.read_csv(\"data/hackathon_loreal_test_set.csv\")\n",
    "df_test"
   ]
  },
  {
   "cell_type": "code",
   "execution_count": null,
   "metadata": {},
   "outputs": [],
   "source": []
  }
 ]
}