{
 "metadata": {
  "language_info": {
   "codemirror_mode": {
    "name": "ipython",
    "version": 3
   },
   "file_extension": ".py",
   "mimetype": "text/x-python",
   "name": "python",
   "nbconvert_exporter": "python",
   "pygments_lexer": "ipython3",
   "version": "3.8.3-final"
  },
  "orig_nbformat": 2,
  "kernelspec": {
   "name": "python3",
   "display_name": "Python 3.8.3 64-bit",
   "metadata": {
    "interpreter": {
     "hash": "2db524e06e9f5f4ffedc911c917cb75e12dbc923643829bf417064a77eb14d37"
    }
   }
  }
 },
 "nbformat": 4,
 "nbformat_minor": 2,
 "cells": [
  {
   "cell_type": "code",
   "execution_count": 10,
   "metadata": {},
   "outputs": [],
   "source": [
    "import pandas as pd\n",
    "import matplotlib.pyplot as plt\n",
    "import seaborn as sns\n",
    "import numpy as np\n",
    "\n",
    "from sklearn.feature_extraction.text import TfidfTransformer, CountVectorizer\n",
    "from sklearn import preprocessing\n",
    "from sklearn.model_selection import train_test_split\n",
    "\n",
    "from keras.models import Sequential\n",
    "from keras.layers import Dense\n",
    "\n",
    "\n",
    "from function import clean_text, f1_m\n",
    "\n",
    "\n",
    "array_col = ['skincare', 'hair', 'make-up', 'other']\n",
    "\n",
    "### data\n",
    "df_train = pd.read_csv(\"data/hackathon_loreal_train_set.csv\")\n",
    "df_train = df_train.drop(['Unnamed: 0'], axis = 1)\n",
    "\n",
    "df_test = pd.read_csv(\"data/hackathon_loreal_test_set.csv\")\n",
    "df_test = df_test.drop(['Unnamed: 0'], axis = 1)\n",
    "\n",
    "\n",
    "\n",
    "df_train[\"clean_content\"] = df_train.text.apply(clean_text)\n",
    "df_test[\"clean_content\"] = df_test.text.apply(clean_text)\n",
    "\n",
    "\n",
    "\n",
    "df_train_clean = df_train.drop([\"text\"], axis = 1)\n",
    "df_test_clean = df_test.drop([\"text\"], axis = 1)\n",
    "\n",
    "#X = df_train['clean_content']\n",
    "#Y = df_train.drop(['clean_content', 'index', 'text'], axis = 1)\n",
    "\n",
    "#x_train, x_test, y_train, y_test = train_test_split(X, Y, test_size=0.2, random_state=4)\n",
    "\n",
    "x_train = df_train_clean[\"clean_content\"]\n",
    "x_test = df_test_clean[\"clean_content\"]\n",
    "\n",
    "y_train = df_train_clean.drop([\"clean_content\", \"index\"], axis = 1)"
   ]
  },
  {
   "cell_type": "code",
   "execution_count": 13,
   "metadata": {},
   "outputs": [
    {
     "output_type": "execute_result",
     "data": {
      "text/plain": [
       "(10572,)"
      ]
     },
     "metadata": {},
     "execution_count": 13
    }
   ],
   "source": [
    "np.shape(x_train)"
   ]
  },
  {
   "cell_type": "code",
   "execution_count": 15,
   "metadata": {},
   "outputs": [
    {
     "output_type": "stream",
     "name": "stdout",
     "text": [
      "Epoch 1/5\n",
      "331/331 [==============================] - 22s 65ms/step - loss: 0.2583 - f1_m: 0.7886\n",
      "Epoch 2/5\n",
      "331/331 [==============================] - 20s 60ms/step - loss: 0.1142 - f1_m: 0.9238\n",
      "Epoch 3/5\n",
      "331/331 [==============================] - 28s 85ms/step - loss: 0.0661 - f1_m: 0.9575\n",
      "Epoch 4/5\n",
      "331/331 [==============================] - 32s 98ms/step - loss: 0.0511 - f1_m: 0.9647\n",
      "Epoch 5/5\n",
      "331/331 [==============================] - 24s 74ms/step - loss: 0.0450 - f1_m: 0.9680\n",
      "83/83 [==============================] - 2s 24ms/step - loss: 32685.2734 - f1_m: 2.5110\n"
     ]
    }
   ],
   "source": [
    "cv=CountVectorizer()\n",
    "cv.fit(x_train)\n",
    "\n",
    "x_train_count = cv.fit_transform(x_train).astype('int32').toarray()\n",
    "x_test_count = cv.transform(x_test).astype('int32').toarray()\n",
    "\n",
    "\n",
    "\n",
    "model = Sequential()\n",
    "\n",
    "model.add(Dense(128, input_shape=(80736,), activation='relu'))\n",
    "model.add(Dense(4, activation='softmax'))\n",
    "\n",
    "model.compile(optimizer='adam', loss='binary_crossentropy', metrics = [f1_m])\n",
    "\n",
    "model.fit(x_train_count, y_train, epochs=5)\n",
    "\n",
    "\n",
    "evaluate = model.evaluate(x_test_count, y_test)"
   ]
  },
  {
   "cell_type": "code",
   "execution_count": null,
   "metadata": {},
   "outputs": [],
   "source": []
  }
 ]
}